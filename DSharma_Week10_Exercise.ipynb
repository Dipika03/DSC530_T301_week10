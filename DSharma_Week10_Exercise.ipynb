{
 "cells": [
  {
   "cell_type": "code",
   "execution_count": 1,
   "id": "1cc8cd86-eb78-4b8d-934e-db9c6cec68a2",
   "metadata": {},
   "outputs": [],
   "source": [
    "# Name Dipika Sharma\n",
    "# DSC 530 T301 Data Exploration\n",
    "# Week 10"
   ]
  },
  {
   "cell_type": "markdown",
   "id": "7abd0e0c-3462-48e3-832c-5d17cc710dd8",
   "metadata": {
    "tags": []
   },
   "source": [
    "# Assignment 10.2 - (12.1, 12.2)\n",
    "\n",
    "http://thinkstats2.com\n",
    "\n",
    "Copyright 2016 Allen B. Downey\n",
    "\n",
    "MIT License: https://opensource.org/licenses/MIT"
   ]
  },
  {
   "cell_type": "code",
   "execution_count": 7,
   "id": "4a420dcc-505f-4beb-989d-8895c8669d74",
   "metadata": {},
   "outputs": [
    {
     "name": "stdout",
     "output_type": "stream",
     "text": [
      "Downloaded thinkstats2.py\n",
      "Downloaded thinkplot.py\n",
      "Downloaded mj-clean.csv\n"
     ]
    }
   ],
   "source": [
    "from os.path import basename, exists\n",
    "\n",
    "\n",
    "def download(url):\n",
    "    filename = basename(url)\n",
    "    if not exists(filename):\n",
    "        from urllib.request import urlretrieve\n",
    "\n",
    "        local, _ = urlretrieve(url, filename)\n",
    "        print(\"Downloaded \" + local)\n",
    "\n",
    "\n",
    "download(\"https://github.com/AllenDowney/ThinkStats2/raw/master/code/thinkstats2.py\")\n",
    "download(\"https://github.com/AllenDowney/ThinkStats2/raw/master/code/thinkplot.py\")\n",
    "download(\"https://github.com/AllenDowney/ThinkStats2/raw/master/code/mj-clean.csv\")"
   ]
  },
  {
   "cell_type": "code",
   "execution_count": 8,
   "id": "4752897f-d750-4124-996b-b7c799525141",
   "metadata": {},
   "outputs": [],
   "source": [
    "import numpy as np\n",
    "import pandas as pd\n",
    "\n",
    "import random\n",
    "\n",
    "import thinkstats2\n",
    "import thinkplot"
   ]
  },
  {
   "cell_type": "markdown",
   "id": "7ee60321-20f5-4c72-b063-312c288ed3f5",
   "metadata": {},
   "source": [
    "## Exercise 12.1"
   ]
  },
  {
   "cell_type": "markdown",
   "id": "7048278f-b987-430f-9f39-b1e630f35ab9",
   "metadata": {},
   "source": [
    "Exercise 12.1 The linear model I used in this chapter has the obvious drawback that it is linear, and there is no reason to expect prices to change linearly\n",
    "over time. We can add flexibility to the model by adding a quadratic term,\n",
    "as we did in Section 11.3.\n",
    "Use a quadratic model to fit the time series of daily prices, and use the model\n",
    "to generate predictions. You will have to write a version of RunLinearModel\n",
    "that runs that quadratic model, but after that you should be able to reuse\n",
    "code in timeseries.py to generate predictions."
   ]
  },
  {
   "cell_type": "code",
   "execution_count": 38,
   "id": "445665fa-fd10-40b3-9cd2-174b4cd46142",
   "metadata": {},
   "outputs": [
    {
     "data": {
      "text/html": [
       "<div>\n",
       "<style scoped>\n",
       "    .dataframe tbody tr th:only-of-type {\n",
       "        vertical-align: middle;\n",
       "    }\n",
       "\n",
       "    .dataframe tbody tr th {\n",
       "        vertical-align: top;\n",
       "    }\n",
       "\n",
       "    .dataframe thead th {\n",
       "        text-align: right;\n",
       "    }\n",
       "</style>\n",
       "<table border=\"1\" class=\"dataframe\">\n",
       "  <thead>\n",
       "    <tr style=\"text-align: right;\">\n",
       "      <th></th>\n",
       "      <th>city</th>\n",
       "      <th>state</th>\n",
       "      <th>price</th>\n",
       "      <th>amount</th>\n",
       "      <th>quality</th>\n",
       "      <th>date</th>\n",
       "      <th>ppg</th>\n",
       "      <th>state.name</th>\n",
       "      <th>lat</th>\n",
       "      <th>lon</th>\n",
       "    </tr>\n",
       "  </thead>\n",
       "  <tbody>\n",
       "    <tr>\n",
       "      <th>0</th>\n",
       "      <td>Annandale</td>\n",
       "      <td>VA</td>\n",
       "      <td>100</td>\n",
       "      <td>7.075</td>\n",
       "      <td>high</td>\n",
       "      <td>2010-09-02</td>\n",
       "      <td>14.13</td>\n",
       "      <td>Virginia</td>\n",
       "      <td>38.830345</td>\n",
       "      <td>-77.213870</td>\n",
       "    </tr>\n",
       "    <tr>\n",
       "      <th>1</th>\n",
       "      <td>Auburn</td>\n",
       "      <td>AL</td>\n",
       "      <td>60</td>\n",
       "      <td>28.300</td>\n",
       "      <td>high</td>\n",
       "      <td>2010-09-02</td>\n",
       "      <td>2.12</td>\n",
       "      <td>Alabama</td>\n",
       "      <td>32.578185</td>\n",
       "      <td>-85.472820</td>\n",
       "    </tr>\n",
       "    <tr>\n",
       "      <th>2</th>\n",
       "      <td>Austin</td>\n",
       "      <td>TX</td>\n",
       "      <td>60</td>\n",
       "      <td>28.300</td>\n",
       "      <td>medium</td>\n",
       "      <td>2010-09-02</td>\n",
       "      <td>2.12</td>\n",
       "      <td>Texas</td>\n",
       "      <td>30.326374</td>\n",
       "      <td>-97.771258</td>\n",
       "    </tr>\n",
       "    <tr>\n",
       "      <th>3</th>\n",
       "      <td>Belleville</td>\n",
       "      <td>IL</td>\n",
       "      <td>400</td>\n",
       "      <td>28.300</td>\n",
       "      <td>high</td>\n",
       "      <td>2010-09-02</td>\n",
       "      <td>14.13</td>\n",
       "      <td>Illinois</td>\n",
       "      <td>38.532311</td>\n",
       "      <td>-89.983521</td>\n",
       "    </tr>\n",
       "    <tr>\n",
       "      <th>4</th>\n",
       "      <td>Boone</td>\n",
       "      <td>NC</td>\n",
       "      <td>55</td>\n",
       "      <td>3.540</td>\n",
       "      <td>high</td>\n",
       "      <td>2010-09-02</td>\n",
       "      <td>15.54</td>\n",
       "      <td>North Carolina</td>\n",
       "      <td>36.217052</td>\n",
       "      <td>-81.687983</td>\n",
       "    </tr>\n",
       "  </tbody>\n",
       "</table>\n",
       "</div>"
      ],
      "text/plain": [
       "         city state  price  amount quality       date    ppg      state.name  \\\n",
       "0   Annandale    VA    100   7.075    high 2010-09-02  14.13        Virginia   \n",
       "1      Auburn    AL     60  28.300    high 2010-09-02   2.12         Alabama   \n",
       "2      Austin    TX     60  28.300  medium 2010-09-02   2.12           Texas   \n",
       "3  Belleville    IL    400  28.300    high 2010-09-02  14.13        Illinois   \n",
       "4       Boone    NC     55   3.540    high 2010-09-02  15.54  North Carolina   \n",
       "\n",
       "         lat        lon  \n",
       "0  38.830345 -77.213870  \n",
       "1  32.578185 -85.472820  \n",
       "2  30.326374 -97.771258  \n",
       "3  38.532311 -89.983521  \n",
       "4  36.217052 -81.687983  "
      ]
     },
     "execution_count": 38,
     "metadata": {},
     "output_type": "execute_result"
    }
   ],
   "source": [
    "# Load the data from \"Price of Weed\"\n",
    "\n",
    "dataframe = pd.read_csv(\"mj-clean.csv\", parse_dates=[5])\n",
    "dataframe.head()"
   ]
  },
  {
   "cell_type": "code",
   "execution_count": 43,
   "id": "d1dd0810-4d7c-4d57-a198-29a3f5a3dfc2",
   "metadata": {},
   "outputs": [],
   "source": [
    "# Defining function which will take the dataframe, compute and returns the daily averages.\n",
    "\n",
    "def GroupByDay(transactions, func=np.mean):\n",
    "\n",
    "    grouped = transactions[[\"date\", \"ppg\"]].groupby(\"date\")\n",
    "    daily = grouped.aggregate(func)\n",
    "\n",
    "    daily[\"date\"] = daily.index\n",
    "    start = daily.date[0]\n",
    "    one_year = np.timedelta64(1, \"Y\")\n",
    "    daily[\"years\"] = (daily.date - start) / one_year\n",
    "\n",
    "    return daily"
   ]
  },
  {
   "cell_type": "code",
   "execution_count": 44,
   "id": "4cf247a6-625e-4401-a387-45246986fc52",
   "metadata": {},
   "outputs": [],
   "source": [
    "# Defining the function which will take the dataframe, divide the dataframe by quality variable and will returns a map from quality name of daily averages.\n",
    "\n",
    "def GroupByQualityAndDay(transactions):\n",
    " \n",
    "    groups = transactions.groupby(\"quality\") # grouping by quality\n",
    "    dailies = {}\n",
    "    for name, group in groups:\n",
    "        dailies[name] = GroupByDay(group)\n",
    "\n",
    "    return dailies"
   ]
  },
  {
   "cell_type": "code",
   "execution_count": 45,
   "id": "00bb5c24-8845-4371-b9f6-3f41f9fbab9b",
   "metadata": {},
   "outputs": [],
   "source": [
    "dailies = GroupByQualityAndDay(dataframe)"
   ]
  },
  {
   "cell_type": "code",
   "execution_count": 46,
   "id": "1e218298-aa78-4198-b888-1cf05a1d9820",
   "metadata": {},
   "outputs": [],
   "source": [
    "# Quadratic model to fit the time series of daily prices\n",
    "# Defining function to take the dataframe which has daily prices group by quality. This function will returns the model and results.\n",
    "\n",
    "def RunQuadraticModel(daily):\n",
    " \n",
    "    daily[\"years2\"] = daily.years**2\n",
    "    model = smf.ols(\"ppg ~ years + years2\", data=daily)\n",
    "    results = model.fit()\n",
    "    return model, results"
   ]
  },
  {
   "cell_type": "code",
   "execution_count": 47,
   "id": "8955180c-8009-4b0b-818a-9365a9589372",
   "metadata": {},
   "outputs": [],
   "source": [
    "# using statsmodels as a function of time to run a linear model of price.\n",
    "\n",
    "import statsmodels.formula.api as smf"
   ]
  },
  {
   "cell_type": "code",
   "execution_count": 53,
   "id": "e91c813c-d695-427c-b737-b46c781c8496",
   "metadata": {},
   "outputs": [
    {
     "data": {
      "text/html": [
       "<table class=\"simpletable\">\n",
       "<caption>OLS Regression Results</caption>\n",
       "<tr>\n",
       "  <th>Dep. Variable:</th>           <td>ppg</td>       <th>  R-squared:         </th> <td>   0.455</td> \n",
       "</tr>\n",
       "<tr>\n",
       "  <th>Model:</th>                   <td>OLS</td>       <th>  Adj. R-squared:    </th> <td>   0.454</td> \n",
       "</tr>\n",
       "<tr>\n",
       "  <th>Method:</th>             <td>Least Squares</td>  <th>  F-statistic:       </th> <td>   517.5</td> \n",
       "</tr>\n",
       "<tr>\n",
       "  <th>Date:</th>             <td>Fri, 20 May 2022</td> <th>  Prob (F-statistic):</th> <td>4.57e-164</td>\n",
       "</tr>\n",
       "<tr>\n",
       "  <th>Time:</th>                 <td>21:00:05</td>     <th>  Log-Likelihood:    </th> <td> -1497.4</td> \n",
       "</tr>\n",
       "<tr>\n",
       "  <th>No. Observations:</th>      <td>  1241</td>      <th>  AIC:               </th> <td>   3001.</td> \n",
       "</tr>\n",
       "<tr>\n",
       "  <th>Df Residuals:</th>          <td>  1238</td>      <th>  BIC:               </th> <td>   3016.</td> \n",
       "</tr>\n",
       "<tr>\n",
       "  <th>Df Model:</th>              <td>     2</td>      <th>                     </th>     <td> </td>    \n",
       "</tr>\n",
       "<tr>\n",
       "  <th>Covariance Type:</th>      <td>nonrobust</td>    <th>                     </th>     <td> </td>    \n",
       "</tr>\n",
       "</table>\n",
       "<table class=\"simpletable\">\n",
       "<tr>\n",
       "      <td></td>         <th>coef</th>     <th>std err</th>      <th>t</th>      <th>P>|t|</th>  <th>[0.025</th>    <th>0.975]</th>  \n",
       "</tr>\n",
       "<tr>\n",
       "  <th>Intercept</th> <td>   13.6980</td> <td>    0.067</td> <td>  205.757</td> <td> 0.000</td> <td>   13.567</td> <td>   13.829</td>\n",
       "</tr>\n",
       "<tr>\n",
       "  <th>years</th>     <td>   -1.1171</td> <td>    0.084</td> <td>  -13.326</td> <td> 0.000</td> <td>   -1.282</td> <td>   -0.953</td>\n",
       "</tr>\n",
       "<tr>\n",
       "  <th>years2</th>    <td>    0.1132</td> <td>    0.022</td> <td>    5.060</td> <td> 0.000</td> <td>    0.069</td> <td>    0.157</td>\n",
       "</tr>\n",
       "</table>\n",
       "<table class=\"simpletable\">\n",
       "<tr>\n",
       "  <th>Omnibus:</th>       <td>49.112</td> <th>  Durbin-Watson:     </th> <td>   1.885</td>\n",
       "</tr>\n",
       "<tr>\n",
       "  <th>Prob(Omnibus):</th> <td> 0.000</td> <th>  Jarque-Bera (JB):  </th> <td> 113.885</td>\n",
       "</tr>\n",
       "<tr>\n",
       "  <th>Skew:</th>          <td> 0.199</td> <th>  Prob(JB):          </th> <td>1.86e-25</td>\n",
       "</tr>\n",
       "<tr>\n",
       "  <th>Kurtosis:</th>      <td> 4.430</td> <th>  Cond. No.          </th> <td>    27.5</td>\n",
       "</tr>\n",
       "</table><br/><br/>Notes:<br/>[1] Standard Errors assume that the covariance matrix of the errors is correctly specified."
      ],
      "text/plain": [
       "<class 'statsmodels.iolib.summary.Summary'>\n",
       "\"\"\"\n",
       "                            OLS Regression Results                            \n",
       "==============================================================================\n",
       "Dep. Variable:                    ppg   R-squared:                       0.455\n",
       "Model:                            OLS   Adj. R-squared:                  0.454\n",
       "Method:                 Least Squares   F-statistic:                     517.5\n",
       "Date:                Fri, 20 May 2022   Prob (F-statistic):          4.57e-164\n",
       "Time:                        21:00:05   Log-Likelihood:                -1497.4\n",
       "No. Observations:                1241   AIC:                             3001.\n",
       "Df Residuals:                    1238   BIC:                             3016.\n",
       "Df Model:                           2                                         \n",
       "Covariance Type:            nonrobust                                         \n",
       "==============================================================================\n",
       "                 coef    std err          t      P>|t|      [0.025      0.975]\n",
       "------------------------------------------------------------------------------\n",
       "Intercept     13.6980      0.067    205.757      0.000      13.567      13.829\n",
       "years         -1.1171      0.084    -13.326      0.000      -1.282      -0.953\n",
       "years2         0.1132      0.022      5.060      0.000       0.069       0.157\n",
       "==============================================================================\n",
       "Omnibus:                       49.112   Durbin-Watson:                   1.885\n",
       "Prob(Omnibus):                  0.000   Jarque-Bera (JB):              113.885\n",
       "Skew:                           0.199   Prob(JB):                     1.86e-25\n",
       "Kurtosis:                       4.430   Cond. No.                         27.5\n",
       "==============================================================================\n",
       "\n",
       "Notes:\n",
       "[1] Standard Errors assume that the covariance matrix of the errors is correctly specified.\n",
       "\"\"\""
      ]
     },
     "execution_count": 53,
     "metadata": {},
     "output_type": "execute_result"
    }
   ],
   "source": [
    "# Lets run the model for high quality cannabis.\n",
    "\n",
    "quality_name = \"high\"\n",
    "daily = dailies[quality_name]\n",
    "\n",
    "model, results = RunQuadraticModel(daily)\n",
    "results.summary()"
   ]
  },
  {
   "cell_type": "markdown",
   "id": "1f646c53-bfe4-43f9-829c-730f3285f297",
   "metadata": {},
   "source": [
    "#### As we can see the R-squared value is between 0 to 1 so the created model is a fit. The std err varialble is very low which means the selected model is accurate. The p-value is 0 which is considered to be statistically significant"
   ]
  },
  {
   "cell_type": "code",
   "execution_count": 50,
   "id": "9f43d7fd-bad9-47aa-94ae-ea4cc56c2319",
   "metadata": {},
   "outputs": [],
   "source": [
    "# Now lets use the data to plot the fitted model.\n",
    "# The following function will take the model, results and label as different variable. \n",
    "\n",
    "def PlotFittedValues(model, results, label=\"\"):\n",
    "\n",
    "    years = model.exog[:, 1]\n",
    "    values = model.endog\n",
    "    thinkplot.Scatter(years, values, s=15, label=label)\n",
    "    thinkplot.Plot(years, results.fittedvalues, label=\"model\", color=\"#ff7f00\")"
   ]
  },
  {
   "cell_type": "code",
   "execution_count": 52,
   "id": "a858d4cc-06b2-41c6-832d-6cb445a26cd7",
   "metadata": {},
   "outputs": [
    {
     "data": {
      "image/png": "[encoded data removed]",
      "text/plain": [
       "<Figure size 432x288 with 1 Axes>"
      ]
     },
     "metadata": {
      "needs_background": "light"
     },
     "output_type": "display_data"
    }
   ],
   "source": [
    "# Lets plot the data using fitted model.\n",
    "# PlotFittedValues function will makes a scatter plot of the data points and a line plot of the fitted values\n",
    "\n",
    "PlotFittedValues(model, results, label=name)\n",
    "thinkplot.Config(\n",
    "    title=\"Fitted values\", xlabel=\"Years\", xlim=[-0.1, 3.8], ylabel=\"price per gram ($)\"\n",
    ")"
   ]
  },
  {
   "cell_type": "markdown",
   "id": "c5206730-f69e-4889-af21-33547e96eed1",
   "metadata": {},
   "source": [
    "#### The above plot shows the results for high quality cannabis and the model looks like a fair liner fit for the data."
   ]
  },
  {
   "cell_type": "code",
   "execution_count": 54,
   "id": "3f986e16-93f3-41ea-a91a-7b2829ac05ec",
   "metadata": {},
   "outputs": [],
   "source": [
    "# Defining function RunLinearmodel to run the quadratic model\n",
    "\n",
    "def RunLinearModel(daily):\n",
    "    model = smf.ols(\"ppg ~ years\", data=daily)\n",
    "    results = model.fit()\n",
    "    return model, results"
   ]
  },
  {
   "cell_type": "code",
   "execution_count": 55,
   "id": "6c7d5962-4cd6-4312-9b5b-586da4c28af1",
   "metadata": {},
   "outputs": [],
   "source": [
    "# Defining function to plot predictions.\n",
    "# This function will take dataframe, sequence of time in years, simulation, percentile range and function thats fits a model to the data.\n",
    "\n",
    "def PlotPredictions(daily, years, iters=101, percent=90, func=RunLinearModel):\n",
    "\n",
    "    result_seq = SimulateResults(daily, iters=iters, func=func)\n",
    "    p = (100 - percent) / 2\n",
    "    percents = p, 100 - p\n",
    "\n",
    "    predict_seq = GeneratePredictions(result_seq, years, add_resid=True)\n",
    "    low, high = thinkstats2.PercentileRows(predict_seq, percents)\n",
    "    thinkplot.FillBetween(years, low, high, alpha=0.3, color=\"gray\")\n",
    "\n",
    "    predict_seq = GeneratePredictions(result_seq, years, add_resid=False)\n",
    "    low, high = thinkstats2.PercentileRows(predict_seq, percents)\n",
    "    thinkplot.FillBetween(years, low, high, alpha=0.5, color=\"gray\")"
   ]
  },
  {
   "cell_type": "code",
   "execution_count": 59,
   "id": "133eb3f3-9b60-46c4-9d0b-93a7b980acfc",
   "metadata": {},
   "outputs": [],
   "source": [
    "# defining function which will take dataframe, simulation and function that fits the model to the data.\n",
    "# This function will run iters number of times and will return the list of result object.\n",
    "\n",
    "def SimulateResults(daily, iters=101, func=RunLinearModel):\n",
    "\n",
    "    _, results = func(daily)\n",
    "    fake = daily.copy()\n",
    "\n",
    "    result_seq = []\n",
    "    for _ in range(iters):\n",
    "        \n",
    "        # Resampling to find out the uncertainty in the prediction. \n",
    "        # resamples from the residual to generate fake dataset.\n",
    "        fake.ppg = results.fittedvalues + thinkstats2.Resample(results.resid) \n",
    "        _, fake_results = func(fake)\n",
    "        result_seq.append(fake_results)\n",
    "\n",
    "    return result_seq"
   ]
  },
  {
   "cell_type": "code",
   "execution_count": 60,
   "id": "762887c6-390e-4f51-b8b6-80a69595eec2",
   "metadata": {},
   "outputs": [],
   "source": [
    "# Defining the function will take list of result object, sequence of times in years.\n",
    "# Return the array of predicted value from the list of result object.\n",
    "# add_resid is boolean variale which will take false when prediction represent sampling error and true then we include the resampled residuals to the predicted values.\n",
    "\n",
    "def GeneratePredictions(result_seq, years, add_resid=False):\n",
    " \n",
    "    n = len(years)\n",
    "    d = dict(Intercept=np.ones(n), years=years, years2=years**2)\n",
    "    predict_df = pd.DataFrame(d)\n",
    "\n",
    "    predict_seq = []\n",
    "    for fake_results in result_seq:\n",
    "        \n",
    "        # Using predict method to generate predictions\n",
    "        predict = fake_results.predict(predict_df)\n",
    "        if add_resid:\n",
    "            predict += thinkstats2.Resample(fake_results.resid, n)\n",
    "        predict_seq.append(predict)\n",
    "\n",
    "    # returning the sequence of predictions.\n",
    "    return predict_seq"
   ]
  },
  {
   "cell_type": "code",
   "execution_count": 58,
   "id": "fef9dfa9-aba3-48e6-82c9-02678601d614",
   "metadata": {},
   "outputs": [
    {
     "data": {
      "image/png": "[encoded data removed]",
      "text/plain": [
       "<Figure size 432x288 with 1 Axes>"
      ]
     },
     "metadata": {
      "needs_background": "light"
     },
     "output_type": "display_data"
    }
   ],
   "source": [
    "# Now lets plot the scatter plot to represent the sequence of prediction.\n",
    "\n",
    "years = np.linspace(0, 5, 101)\n",
    "thinkplot.Scatter(daily.years, daily.ppg, alpha=0.1, label=name)\n",
    "PlotPredictions(daily, years, func=RunQuadraticModel)\n",
    "thinkplot.Config(\n",
    "    title=\"predictions\",\n",
    "    xlabel=\"Years\",\n",
    "    xlim=[years[0] - 0.1, years[-1] + 0.1],\n",
    "    ylabel=\"Price per gram ($)\",\n",
    ")"
   ]
  },
  {
   "cell_type": "markdown",
   "id": "fa57a476-bfd9-499b-9415-8a5bf4033782",
   "metadata": {},
   "source": [
    "#### The above plot show the prediction based on linear fits. it also show the variation is due to the sampling error and prediction error where dark gray area of plot represnt the 90% confidence interval for the sampling error which show the modeling uncertainty where as the lighter region represent the 90% confidence interval for prediction error meaning predictive uncertainty.\n"
   ]
  },
  {
   "cell_type": "markdown",
   "id": "a3376fc4-0a9a-4b56-9cd8-a556ded3c1e7",
   "metadata": {},
   "source": [
    "## Exercise 12.2"
   ]
  },
  {
   "cell_type": "markdown",
   "id": "b9ca06dd-d5a8-48f9-bc46-25e6908cf5b7",
   "metadata": {},
   "source": [
    "Exercise 12.2 Write a definition for a class named SerialCorrelationTest\n",
    "that extends HypothesisTest from Section 9.2. It should take a series and\n",
    "a lag as data, compute the serial correlation of the series with the given lag,\n",
    "and then compute the p-value of the observed correlation.\n",
    "Use this class to test whether the serial correlation in raw price data is\n",
    "statistically significant. Also test the residuals of the linear model and (if\n",
    "you did the previous exercise), the quadratic model"
   ]
  },
  {
   "cell_type": "code",
   "execution_count": 62,
   "id": "3ea2949b-72d8-4425-ad70-ebd9b4cf2f43",
   "metadata": {},
   "outputs": [],
   "source": [
    "# Defining the class to perform the Hypothesis test\n",
    "# this class will test whether the serial correlation is statistically significant or not by permutation.\n",
    "# And also test the residual of the linear model.\n",
    "\n",
    "\n",
    "class SerialCorrelationTest(thinkstats2.HypothesisTest):\n",
    " \n",
    "    def TestStatistic(self, data):\n",
    "\n",
    "        series, lag = data\n",
    "        test_stat = abs(SerialCorr(series, lag))\n",
    "        return test_stat\n",
    "\n",
    "    def RunModel(self):\n",
    " \n",
    "        series, lag = self.data\n",
    "        permutation = series.reindex(np.random.permutation(series.index))\n",
    "        return permutation, lag"
   ]
  },
  {
   "cell_type": "code",
   "execution_count": 63,
   "id": "3a32360e-892f-42e8-ad44-dc4bbf54adbd",
   "metadata": {},
   "outputs": [],
   "source": [
    "# Defining the function, this will take series and lag as data, calculate the p value and returns the correlation.\n",
    "\n",
    "def SerialCorr(series, lag=1):\n",
    "    xs = series[lag:]\n",
    "    ys = series.shift(lag)[lag:]\n",
    "    corr = thinkstats2.Corr(xs, ys)\n",
    "    return corr"
   ]
  },
  {
   "cell_type": "code",
   "execution_count": 67,
   "id": "203aa6f1-230e-4c59-b069-1c7d6d7ebf70",
   "metadata": {},
   "outputs": [
    {
     "name": "stdout",
     "output_type": "stream",
     "text": [
      "0.4852293761947381 0.0\n"
     ]
    }
   ],
   "source": [
    "# Now lets test the corelation between consecutive prices and high quality category.\n",
    "\n",
    "quality_name = \"high\"\n",
    "daily = dailies[quality_name]\n",
    "\n",
    "series = daily.ppg\n",
    "test = SerialCorrelationTest((series, 1))\n",
    "pvalue = test.PValue()\n",
    "print(test.actual, pvalue)"
   ]
  },
  {
   "cell_type": "markdown",
   "id": "c9f1f0d4-5110-4ca2-8618-f792f79c7086",
   "metadata": {},
   "source": [
    "#### Since the serial correlation is 0.48 for the high quality category then for long-term we expect strong correlation."
   ]
  },
  {
   "cell_type": "code",
   "execution_count": 68,
   "id": "0ced0252-6dfb-4ede-becc-8b7f0f1db77b",
   "metadata": {},
   "outputs": [
    {
     "name": "stdout",
     "output_type": "stream",
     "text": [
      "0.07570473767506267 0.01\n"
     ]
    }
   ],
   "source": [
    "# Lets find out the serial correlation in residuals of the linear model\n",
    "\n",
    "_, results = RunLinearModel(daily)\n",
    "series = results.resid\n",
    "test = SerialCorrelationTest((series, 1))\n",
    "pvalue = test.PValue()\n",
    "print(test.actual, pvalue)"
   ]
  },
  {
   "cell_type": "markdown",
   "id": "634a4b84-bfaa-4461-ab9c-ff4bf1948ebe",
   "metadata": {},
   "source": [
    "#### Serial correlation is 0.07 which is small. This indicate that there is not very strong correlation in this series."
   ]
  },
  {
   "cell_type": "code",
   "execution_count": 70,
   "id": "a867ba2c-c6fa-4916-84bb-54bc177fd5f0",
   "metadata": {},
   "outputs": [
    {
     "name": "stdout",
     "output_type": "stream",
     "text": [
      "0.05607308161289921 0.043\n"
     ]
    }
   ],
   "source": [
    "# Now we look for serial correlation in residuals of the quadratic model\n",
    "\n",
    "_, results = RunQuadraticModel(daily)\n",
    "series = results.resid\n",
    "test = SerialCorrelationTest((series, 1))\n",
    "pvalue = test.PValue()\n",
    "print(test.actual, pvalue)"
   ]
  },
  {
   "cell_type": "markdown",
   "id": "d5b8ab54-aa25-4982-8b2e-71900fb553b5",
   "metadata": {},
   "source": [
    "#### Serial correlation is 0.05 which is small. This indicate that there is not very strong correlation in this series."
   ]
  },
  {
   "cell_type": "code",
   "execution_count": null,
   "id": "50cac01f-dc8d-4ccc-b587-84d7f3764db1",
   "metadata": {},
   "outputs": [],
   "source": []
  }
 ],
 "metadata": {
  "kernelspec": {
   "display_name": "Python 3 (ipykernel)",
   "language": "python",
   "name": "python3"
  },
  "language_info": {
   "codemirror_mode": {
    "name": "ipython",
    "version": 3
   },
   "file_extension": ".py",
   "mimetype": "text/x-python",
   "name": "python",
   "nbconvert_exporter": "python",
   "pygments_lexer": "ipython3",
   "version": "3.9.7"
  }
 },
 "nbformat": 4,
 "nbformat_minor": 5
}
